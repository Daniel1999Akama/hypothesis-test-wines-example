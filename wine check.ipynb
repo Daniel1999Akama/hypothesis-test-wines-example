{
 "cells": [
  {
   "cell_type": "markdown",
   "id": "a48e7ff5",
   "metadata": {},
   "source": [
    "## Hypothesis test\n",
    "\n",
    "### claim: wines with high quality rating have higher median alcohol content than wines with low quality rating"
   ]
  },
  {
   "cell_type": "code",
   "execution_count": null,
   "id": "cd2f87e7",
   "metadata": {},
   "outputs": [],
   "source": [
    "# libraries\n",
    "\n",
    "import numpy as np\n",
    "import pandas as pd"
   ]
  },
  {
   "cell_type": "code",
   "execution_count": 2,
   "id": "9b0db3e5",
   "metadata": {},
   "outputs": [],
   "source": [
    "url = 'https://archive.ics.uci.edu/ml/machine-learning-databases/wine-quality/winequality-red.csv'"
   ]
  },
  {
   "cell_type": "code",
   "execution_count": 3,
   "id": "726daf03",
   "metadata": {},
   "outputs": [
    {
     "data": {
      "text/html": [
       "<div>\n",
       "<style scoped>\n",
       "    .dataframe tbody tr th:only-of-type {\n",
       "        vertical-align: middle;\n",
       "    }\n",
       "\n",
       "    .dataframe tbody tr th {\n",
       "        vertical-align: top;\n",
       "    }\n",
       "\n",
       "    .dataframe thead th {\n",
       "        text-align: right;\n",
       "    }\n",
       "</style>\n",
       "<table border=\"1\" class=\"dataframe\">\n",
       "  <thead>\n",
       "    <tr style=\"text-align: right;\">\n",
       "      <th></th>\n",
       "      <th>alcohol</th>\n",
       "      <th>quality</th>\n",
       "    </tr>\n",
       "  </thead>\n",
       "  <tbody>\n",
       "    <tr>\n",
       "      <th>0</th>\n",
       "      <td>9.4</td>\n",
       "      <td>5</td>\n",
       "    </tr>\n",
       "    <tr>\n",
       "      <th>1</th>\n",
       "      <td>9.8</td>\n",
       "      <td>5</td>\n",
       "    </tr>\n",
       "    <tr>\n",
       "      <th>2</th>\n",
       "      <td>9.8</td>\n",
       "      <td>5</td>\n",
       "    </tr>\n",
       "    <tr>\n",
       "      <th>3</th>\n",
       "      <td>9.8</td>\n",
       "      <td>6</td>\n",
       "    </tr>\n",
       "    <tr>\n",
       "      <th>4</th>\n",
       "      <td>9.4</td>\n",
       "      <td>5</td>\n",
       "    </tr>\n",
       "  </tbody>\n",
       "</table>\n",
       "</div>"
      ],
      "text/plain": [
       "   alcohol  quality\n",
       "0      9.4        5\n",
       "1      9.8        5\n",
       "2      9.8        5\n",
       "3      9.8        6\n",
       "4      9.4        5"
      ]
     },
     "execution_count": 3,
     "metadata": {},
     "output_type": "execute_result"
    }
   ],
   "source": [
    "df = pd.read_csv(url, sep=';', header=0, usecols=['alcohol', 'quality'])\n",
    "\n",
    "df.head()"
   ]
  },
  {
   "cell_type": "code",
   "execution_count": 4,
   "id": "9ceee457",
   "metadata": {},
   "outputs": [
    {
     "data": {
      "text/html": [
       "<div>\n",
       "<style scoped>\n",
       "    .dataframe tbody tr th:only-of-type {\n",
       "        vertical-align: middle;\n",
       "    }\n",
       "\n",
       "    .dataframe tbody tr th {\n",
       "        vertical-align: top;\n",
       "    }\n",
       "\n",
       "    .dataframe thead th {\n",
       "        text-align: right;\n",
       "    }\n",
       "</style>\n",
       "<table border=\"1\" class=\"dataframe\">\n",
       "  <thead>\n",
       "    <tr style=\"text-align: right;\">\n",
       "      <th></th>\n",
       "      <th>alcohol</th>\n",
       "      <th>quality</th>\n",
       "    </tr>\n",
       "  </thead>\n",
       "  <tbody>\n",
       "    <tr>\n",
       "      <th>count</th>\n",
       "      <td>1599.000000</td>\n",
       "      <td>1599.000000</td>\n",
       "    </tr>\n",
       "    <tr>\n",
       "      <th>mean</th>\n",
       "      <td>10.422983</td>\n",
       "      <td>5.636023</td>\n",
       "    </tr>\n",
       "    <tr>\n",
       "      <th>std</th>\n",
       "      <td>1.065668</td>\n",
       "      <td>0.807569</td>\n",
       "    </tr>\n",
       "    <tr>\n",
       "      <th>min</th>\n",
       "      <td>8.400000</td>\n",
       "      <td>3.000000</td>\n",
       "    </tr>\n",
       "    <tr>\n",
       "      <th>25%</th>\n",
       "      <td>9.500000</td>\n",
       "      <td>5.000000</td>\n",
       "    </tr>\n",
       "    <tr>\n",
       "      <th>50%</th>\n",
       "      <td>10.200000</td>\n",
       "      <td>6.000000</td>\n",
       "    </tr>\n",
       "    <tr>\n",
       "      <th>75%</th>\n",
       "      <td>11.100000</td>\n",
       "      <td>6.000000</td>\n",
       "    </tr>\n",
       "    <tr>\n",
       "      <th>max</th>\n",
       "      <td>14.900000</td>\n",
       "      <td>8.000000</td>\n",
       "    </tr>\n",
       "  </tbody>\n",
       "</table>\n",
       "</div>"
      ],
      "text/plain": [
       "           alcohol      quality\n",
       "count  1599.000000  1599.000000\n",
       "mean     10.422983     5.636023\n",
       "std       1.065668     0.807569\n",
       "min       8.400000     3.000000\n",
       "25%       9.500000     5.000000\n",
       "50%      10.200000     6.000000\n",
       "75%      11.100000     6.000000\n",
       "max      14.900000     8.000000"
      ]
     },
     "execution_count": 4,
     "metadata": {},
     "output_type": "execute_result"
    }
   ],
   "source": [
    "# lets see some basic statistics\n",
    "df.describe()"
   ]
  },
  {
   "cell_type": "code",
   "execution_count": 5,
   "id": "9c84b84c",
   "metadata": {},
   "outputs": [
    {
     "data": {
      "text/plain": [
       "alcohol    0\n",
       "quality    0\n",
       "dtype: int64"
      ]
     },
     "execution_count": 5,
     "metadata": {},
     "output_type": "execute_result"
    }
   ],
   "source": [
    "# check for null values\n",
    "df.isnull().sum()"
   ]
  },
  {
   "cell_type": "markdown",
   "id": "dfb59d98",
   "metadata": {},
   "source": [
    "### dividing dataset to subsets: high quality alcohol and low quality alcohol"
   ]
  },
  {
   "cell_type": "code",
   "execution_count": 6,
   "id": "42c54274",
   "metadata": {},
   "outputs": [],
   "source": [
    "# create 2 subsets that are original of the other\n",
    "low_grade_alcohol = df[df['quality'] <= 5]\n",
    "high_grade_alcohol = df[df['quality'] > 5]"
   ]
  },
  {
   "cell_type": "markdown",
   "id": "410ed36c",
   "metadata": {},
   "source": [
    "### testing for assumptions i.e. homogeneity"
   ]
  },
  {
   "cell_type": "code",
   "execution_count": 8,
   "id": "896801f3",
   "metadata": {},
   "outputs": [
    {
     "data": {
      "text/plain": [
       "'\\nHYPOTHESES\\n\\nHo : The variance are equal across all the samples/independent groups\\nHa : The variance are not equal acrosss the sample/independet groups\\n\\nIf we get a p-value larger than 0.05, \\nwe can assume that the data is heteroscedastic and can continue carrying out the t-test.\\n'"
      ]
     },
     "execution_count": 8,
     "metadata": {},
     "output_type": "execute_result"
    }
   ],
   "source": [
    "\"\"\"\n",
    "HYPOTHESES\n",
    "\n",
    "null hypothesis Ho : The variance are equal across all the samples/independent groups\n",
    "alternative hypothesis Ha : The variance are not equal acrosss the sample/independent groups\n",
    "\n",
    "If we get a p-value larger than 0.05, \n",
    "we can assume that the data is heteroscedastic and can continue carrying out the t-test.\n",
    "\"\"\""
   ]
  },
  {
   "cell_type": "code",
   "execution_count": 9,
   "id": "df7d1f58",
   "metadata": {},
   "outputs": [],
   "source": [
    "# bartletts test\n",
    "from scipy.stats import bartlett"
   ]
  },
  {
   "cell_type": "code",
   "execution_count": 21,
   "id": "9bcea37c",
   "metadata": {},
   "outputs": [
    {
     "name": "stdout",
     "output_type": "stream",
     "text": [
      "stat: 108.97241772227558  p_value: 1.6455993254217033e-25\n"
     ]
    }
   ],
   "source": [
    "# subsetting the data\n",
    "high_quality = high_grade_alcohol['alcohol']\n",
    "low_quality = low_grade_alcohol ['alcohol']\n",
    "\n",
    "# bartlett's test\n",
    "stat, p = bartlett(high_quality, low_quality)\n",
    "print('stat:',stat, ' p_value:', p)"
   ]
  },
  {
   "cell_type": "code",
   "execution_count": 11,
   "id": "4887cf43",
   "metadata": {},
   "outputs": [
    {
     "data": {
      "text/plain": [
       "'\\n\\nIn this scenario, the P-value is less than alpha therefore we need not continue with the t-test\\n\\n'"
      ]
     },
     "execution_count": 11,
     "metadata": {},
     "output_type": "execute_result"
    }
   ],
   "source": [
    "\"\"\"\n",
    "\n",
    "In this scenario, the P-value is less than alpha therefore we need not continue with the t-test\n",
    "\n",
    "\"\"\""
   ]
  },
  {
   "cell_type": "markdown",
   "id": "e5d2566d",
   "metadata": {},
   "source": [
    "### testing for normality"
   ]
  },
  {
   "cell_type": "code",
   "execution_count": 22,
   "id": "d0bda254",
   "metadata": {},
   "outputs": [
    {
     "data": {
      "text/plain": [
       "<AxesSubplot:xlabel='alcohol', ylabel='Count'>"
      ]
     },
     "execution_count": 22,
     "metadata": {},
     "output_type": "execute_result"
    },
    {
     "data": {
      "image/png": "[encoded data removed]",
      "text/plain": [
       "<Figure size 432x288 with 1 Axes>"
      ]
     },
     "metadata": {
      "needs_background": "light"
     },
     "output_type": "display_data"
    }
   ],
   "source": [
    "\n",
    "import seaborn as sns\n",
    "\n",
    "sns.histplot(data=low_grade_alcohol, x='alcohol', kde=True)"
   ]
  },
  {
   "cell_type": "code",
   "execution_count": 30,
   "id": "de41634b",
   "metadata": {},
   "outputs": [
    {
     "data": {
      "text/plain": [
       "'\\nClearly the data is not normal!\\nIt is skewed to the left.\\n'"
      ]
     },
     "execution_count": 30,
     "metadata": {},
     "output_type": "execute_result"
    }
   ],
   "source": [
    "\"\"\"\n",
    "Clearly the data is not normal!\n",
    "It is skewed to the left.\n",
    "\"\"\""
   ]
  },
  {
   "cell_type": "code",
   "execution_count": null,
   "id": "5de3f371",
   "metadata": {},
   "outputs": [],
   "source": [
    "\"\"\"\n",
    "Since the data does not meet either of the assumptions, and the question requires\n",
    " us to use median, a nonparametric test e.g. wilcoxon rank-sum test will apply.\n",
    "\"\"\""
   ]
  },
  {
   "cell_type": "markdown",
   "id": "113a2456",
   "metadata": {},
   "source": [
    "### medians of the subsets"
   ]
  },
  {
   "cell_type": "code",
   "execution_count": 24,
   "id": "61f70eed",
   "metadata": {},
   "outputs": [
    {
     "data": {
      "text/plain": [
       "count    855.000000\n",
       "mean      10.855029\n",
       "std        1.106109\n",
       "min        8.400000\n",
       "25%       10.000000\n",
       "50%       10.800000\n",
       "75%       11.700000\n",
       "max       14.000000\n",
       "Name: alcohol, dtype: float64"
      ]
     },
     "execution_count": 24,
     "metadata": {},
     "output_type": "execute_result"
    }
   ],
   "source": [
    "high_quality.describe()\n"
   ]
  },
  {
   "cell_type": "code",
   "execution_count": 25,
   "id": "5334f3d3",
   "metadata": {},
   "outputs": [
    {
     "data": {
      "text/plain": [
       "count    744.000000\n",
       "mean       9.926478\n",
       "std        0.758007\n",
       "min        8.400000\n",
       "25%        9.400000\n",
       "50%        9.700000\n",
       "75%       10.300000\n",
       "max       14.900000\n",
       "Name: alcohol, dtype: float64"
      ]
     },
     "execution_count": 25,
     "metadata": {},
     "output_type": "execute_result"
    }
   ],
   "source": [
    "low_quality.describe()"
   ]
  },
  {
   "cell_type": "code",
   "execution_count": null,
   "id": "5bb8f5d7",
   "metadata": {},
   "outputs": [],
   "source": [
    "# we see the median above for both subsets."
   ]
  },
  {
   "cell_type": "markdown",
   "id": "b3f6d695",
   "metadata": {},
   "source": [
    "### declaring null hypothesis(Ho) and alternative hypothesis(Ha)"
   ]
  },
  {
   "cell_type": "code",
   "execution_count": null,
   "id": "0c7e88a1",
   "metadata": {},
   "outputs": [],
   "source": [
    "\"\"\"\n",
    "null Ho : there is no significant difference between the median alcohol content for high quality alcohol and low quality alcohol\n",
    "alternative Ha: the median alcohol content for high quality alcohol is significantly higher than for low quality alcohol\n",
    "\n",
    "\"\"\""
   ]
  },
  {
   "cell_type": "code",
   "execution_count": 31,
   "id": "fbd1ccb3",
   "metadata": {},
   "outputs": [],
   "source": [
    "from scipy import stats\n",
    "\n",
    "# we'll take sample of 200 from both high quality and low quality subsets\n",
    "\n",
    "data1 = high_quality.sample(n=200, random_state=42)\n",
    "data2 = low_quality.sample(n=200, random_state=42)"
   ]
  },
  {
   "cell_type": "code",
   "execution_count": 32,
   "id": "b4ddab2e",
   "metadata": {},
   "outputs": [
    {
     "name": "stdout",
     "output_type": "stream",
     "text": [
      "Wilcoxon rank-sums test statistic: 7.322191030271644\n",
      "p-value: 2.439545299597334e-13\n"
     ]
    }
   ],
   "source": [
    "# now we perform the test\n",
    "\n",
    "stat, p = stats.ranksums(data1, data2)\n",
    "print(\"Wilcoxon rank-sums test statistic:\", stat)\n",
    "print(\"p-value:\", p)"
   ]
  },
  {
   "cell_type": "code",
   "execution_count": null,
   "id": "9d7f90ba",
   "metadata": {},
   "outputs": [],
   "source": [
    "\"\"\"\n",
    "The P-value is less than 0.05 therefore we reject the null hypothesis.\n",
    "\"\"\""
   ]
  }
 ],
 "metadata": {
  "kernelspec": {
   "display_name": "Python 3 (ipykernel)",
   "language": "python",
   "name": "python3"
  },
  "language_info": {
   "codemirror_mode": {
    "name": "ipython",
    "version": 3
   },
   "file_extension": ".py",
   "mimetype": "text/x-python",
   "name": "python",
   "nbconvert_exporter": "python",
   "pygments_lexer": "ipython3",
   "version": "3.9.6"
  }
 },
 "nbformat": 4,
 "nbformat_minor": 5
}
